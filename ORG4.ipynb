{
 "cells": [
  {
   "cell_type": "code",
   "execution_count": null,
   "metadata": {
    "scrolled": true
   },
   "outputs": [],
   "source": [
    "import numpy as np\n",
    "import pandas as pd\n",
    "from wordcloud import WordCloud, STOPWORDS\n",
    "import gensim\n",
    "from gensim.utils import simple_preprocess\n",
    "from gensim.parsing.preprocessing import STOPWORDS\n",
    "import seaborn as sns \n",
    "import matplotlib.pyplot as plt "
   ]
  },
  {
   "cell_type": "code",
   "execution_count": null,
   "metadata": {
    "scrolled": true
   },
   "outputs": [],
   "source": [
    "train = pd.read_csv(\"../data/org4_dev.csv\")\n",
    "org4_cols = [str(i) for i in range(101,113)]\n",
    "org4_cols"
   ]
  },
  {
   "cell_type": "code",
   "execution_count": null,
   "metadata": {
    "scrolled": true
   },
   "outputs": [],
   "source": [
    "for i in range(101,113): \n",
    "    train[str(i)] = train['labels'].apply(lambda x: 1 if str(i) in x else 0)\n"
   ]
  },
  {
   "cell_type": "markdown",
   "metadata": {},
   "source": [
    "``` python\n",
    "    \"org4\": {\n",
    "        \"Child Protection\": 101,\n",
    "        \"Early Recovery and Livelihood\": 102,\n",
    "        \"Education\": 103,\n",
    "        \"Food\": 104,\n",
    "        \"GBV\": 105,\n",
    "        \"Health\": 106,\n",
    "        \"Logistic\": 107,\n",
    "        \"Mine Action\": 108,\n",
    "        \"Nutrition\": 109,\n",
    "        \"Protection\": 110,\n",
    "        \"Shelter and NFIs\": 111,\n",
    "        \"WASH\": 112\n",
    "    }\n",
    "\n",
    "```"
   ]
  },
  {
   "cell_type": "code",
   "execution_count": null,
   "metadata": {
    "scrolled": true
   },
   "outputs": [],
   "source": [
    "stopwords = set(STOPWORDS)\n",
    "stopwords.add(\"Summary\")\n",
    "stopwords.add(\"period\")\n",
    "def generate_wordcloud(data, title = None):\n",
    "    wordcloud = WordCloud(\n",
    "        background_color='white',\n",
    "        stopwords=stopwords,\n",
    "        max_words=10,\n",
    "        max_font_size=40, \n",
    "        scale=5,\n",
    "        random_state=20\n",
    "    ).generate(str(data))\n",
    "\n",
    "    fig = plt.figure(1, figsize=(7,7))\n",
    "    plt.axis('off')\n",
    "    if title: \n",
    "        fig.suptitle(title, fontsize=20)\n",
    "        fig.subplots_adjust(top=2.3)\n",
    "\n",
    "    plt.imshow(wordcloud)\n",
    "    plt.show()"
   ]
  },
  {
   "cell_type": "code",
   "execution_count": null,
   "metadata": {
    "scrolled": false
   },
   "outputs": [],
   "source": [
    "for i in range(101,113):\n",
    "    if i==107: \n",
    "        continue\n",
    "    generate_wordcloud(train.loc[train[str(i)] == 1]['entry_translated'], \n",
    "               title = 'Prevalent words in comments where ID: %s' %i)"
   ]
  },
  {
   "cell_type": "code",
   "execution_count": null,
   "metadata": {
    "scrolled": true
   },
   "outputs": [],
   "source": [
    "def func(t): \n",
    "    value = 111\n",
    "    t = t.lower()\n",
    "#     print(t)\n",
    "    if ('camp' in t) or ('movements' in t) or ('period' in t) or ('bricks' in t): \n",
    "        value = 111\n",
    "    if ('skill' in t) or ('livelihood' in t) or ('econom' in t) or ('financ' in t): \n",
    "        value = 102\n",
    "    if ('fear' in t) or (\"security\" in t) or ('protection' in t):\n",
    "        value=110\n",
    "    if ('nutrition' in t) or ('malnutrition' in t):\n",
    "        value=109\n",
    "    if ('water' in t) or ('sanitation' in t) or ('hygiene' in t) or ('wash' in t): \n",
    "        return 112\n",
    "    if ('child' in t) or ('child protection' in t):\n",
    "        value = 101\n",
    "    elif ('education' in t) or ('alp' in t) or ('school' in t) or ('reading' in t) or ('classroom'in t) or('primary' in t):\n",
    "        value = 103\n",
    "    elif ('food' in t) or (\"food shortage\" in t) or ('food insecurity' in t): \n",
    "        value = 104\n",
    "    if ('gbv' in t): \n",
    "        return 105\n",
    "    \n",
    "    return value"
   ]
  }
 ],
 "metadata": {
  "kernelspec": {
   "display_name": "Py3 OpenCV3 (Forge)",
   "language": "python",
   "name": "opencv-forge"
  },
  "language_info": {
   "codemirror_mode": {
    "name": "ipython",
    "version": 3
   },
   "file_extension": ".py",
   "mimetype": "text/x-python",
   "name": "python",
   "nbconvert_exporter": "python",
   "pygments_lexer": "ipython3",
   "version": "3.6.8"
  }
 },
 "nbformat": 4,
 "nbformat_minor": 2
}
