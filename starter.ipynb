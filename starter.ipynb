{
 "cells": [
  {
   "cell_type": "code",
   "execution_count": null,
   "metadata": {},
   "outputs": [],
   "source": [
    "import numpy as np \n",
    "import pandas as pd \n",
    "import time, os, sys, re, gc, json, multiprocessing\n",
    "import warnings\n",
    "warnings.filterwarnings('ignore')\n",
    "import emoji, random, unicodedata"
   ]
  },
  {
   "cell_type": "code",
   "execution_count": null,
   "metadata": {},
   "outputs": [],
   "source": [
    "import matplotlib.pyplot as plt\n",
    "import seaborn as sns\n",
    "from tqdm import tqdm_notebook"
   ]
  },
  {
   "cell_type": "markdown",
   "metadata": {},
   "source": [
    "## Data Description\n",
    "```python\n",
    "{\n",
    "    \"org123\": {\n",
    "        \"agriculture\": 1,\n",
    "        \"cross\": 2,\n",
    "        \"education\": 3,\n",
    "        \"food\": 4,\n",
    "        \"health\": 5,\n",
    "        \"livelihood\": 6,\n",
    "        \"logistic\": 7,\n",
    "        \"nfi\": 8,\n",
    "        \"nutrition\": 9,\n",
    "        \"protection\": 10,\n",
    "        \"shelter\": 11,\n",
    "        \"wash\": 12\n",
    "    },\n",
    "    \"org4\": {\n",
    "        \"Child Protection\": 101,\n",
    "        \"Early Recovery and Livelihood\": 102,\n",
    "        \"Education\": 103,\n",
    "        \"Food\": 104,\n",
    "        \"GBV\": 105,\n",
    "        \"Health\": 106,\n",
    "        \"Logistic\": 107,\n",
    "        \"Mine Action\": 108,\n",
    "        \"Nutrition\": 109,\n",
    "        \"Protection\": 110,\n",
    "        \"Shelter and NFIs\": 111,\n",
    "        \"WASH\": 112\n",
    "    }\n",
    "}\n",
    "```"
   ]
  },
  {
   "cell_type": "code",
   "execution_count": null,
   "metadata": {},
   "outputs": [],
   "source": [
    "org1 = pd.read_csv('data/org1_dev.csv')\n",
    "org2 = pd.read_csv('data/org2_dev.csv')\n",
    "org3 = pd.read_csv('data/org3_dev.csv')\n",
    "test1 = pd.read_csv('data/org1_test.csv')\n",
    "test2 = pd.read_csv('data/org2_test.csv')\n",
    "test3 = pd.read_csv('data/org3_test.csv')"
   ]
  },
  {
   "cell_type": "code",
   "execution_count": null,
   "metadata": {},
   "outputs": [],
   "source": [
    "print(\"Length of ORG1 : \", org1.shape)\n",
    "print(\"Length of ORG2 : \", org2.shape)\n",
    "print(\"Length of ORG3 : \", org3.shape)"
   ]
  },
  {
   "cell_type": "code",
   "execution_count": null,
   "metadata": {},
   "outputs": [],
   "source": [
    "org1.head()"
   ]
  },
  {
   "cell_type": "code",
   "execution_count": null,
   "metadata": {},
   "outputs": [],
   "source": [
    "org1.language.unique()"
   ]
  },
  {
   "cell_type": "code",
   "execution_count": null,
   "metadata": {},
   "outputs": [],
   "source": [
    "org1.loc[org1.language == 'id']"
   ]
  },
  {
   "cell_type": "code",
   "execution_count": null,
   "metadata": {},
   "outputs": [],
   "source": [
    "org1.labels.nunique()"
   ]
  },
  {
   "cell_type": "code",
   "execution_count": null,
   "metadata": {},
   "outputs": [],
   "source": [
    "org_try = org1.copy()\n",
    "org_try = org_try[:5]\n",
    "org_try"
   ]
  },
  {
   "cell_type": "code",
   "execution_count": null,
   "metadata": {},
   "outputs": [],
   "source": [
    "for i in range(1,13):\n",
    "    org_try[str(i)] = org_try['labels'].apply(lambda x: 1 if str(i) in x else 0)\n",
    "org_try"
   ]
  },
  {
   "cell_type": "code",
   "execution_count": null,
   "metadata": {},
   "outputs": [],
   "source": [
    "for i in range(1,13): \n",
    "    org1[str(i)] = org1['labels'].apply(lambda x: 1 if str(i) in x else 0)\n",
    "    org2[str(i)] = org1['labels'].apply(lambda x: 1 if str(i) in x else 0)\n",
    "    org3[str(i)] = org1['labels'].apply(lambda x: 1 if str(i) in x else 0)\n",
    "    test1[str(i)] = 0\n",
    "    test2[str(i)] = 0\n",
    "    test3[str(i)] = 0"
   ]
  },
  {
   "cell_type": "code",
   "execution_count": null,
   "metadata": {},
   "outputs": [],
   "source": [
    "org1.head()"
   ]
  },
  {
   "cell_type": "markdown",
   "metadata": {},
   "source": [
    "So now we have one hot encoded values for the labels. We have to now ignore column labels and make predictions on the 12 created columns. "
   ]
  },
  {
   "cell_type": "code",
   "execution_count": null,
   "metadata": {},
   "outputs": [],
   "source": [
    "df = org1.drop(['id', 'entry_original','labels','language','entry_translated'], axis=1)\n",
    "counts = []\n",
    "categories = list(df.columns.values)\n",
    "for i in categories:\n",
    "    counts.append((i, df[i].sum()))\n",
    "df_stats = pd.DataFrame(counts, columns=['category', 'number_of_comments'])\n",
    "df_stats"
   ]
  },
  {
   "cell_type": "code",
   "execution_count": null,
   "metadata": {},
   "outputs": [],
   "source": [
    "label_cols = [str(i) for i in range(1,13)]\n",
    "label_cols"
   ]
  },
  {
   "cell_type": "markdown",
   "metadata": {},
   "source": [
    "## Text Preprocessing"
   ]
  },
  {
   "cell_type": "code",
   "execution_count": null,
   "metadata": {},
   "outputs": [],
   "source": [
    "symbols_to_isolate = '.,?!-;*\"…:—()%#$&_/@＼・ω+=”“[]^–>\\\\°<~•≠™ˈʊɒ∞§{}·τα❤☺ɡ|¢→̶`❥━┣┫┗Ｏ►★©―ɪ✔®\\x96\\x92●£♥➤´¹☕≈÷♡◐║▬′ɔː€۩۞†μ✒➥═☆ˌ◄½ʻπδηλσερνʃ✬ＳＵＰＥＲＩＴ☻±♍µº¾✓◾؟．⬅℅»Вав❣⋅¿¬♫ＣＭβ█▓▒░⇒⭐›¡₂₃❧▰▔◞▀▂▃▄▅▆▇↙γ̄″☹➡«φ⅓„✋：¥̲̅́∙‛◇✏▷❓❗¶˚˙）сиʿ✨。ɑ\\x80◕！％¯−ﬂﬁ₁²ʌ¼⁴⁄₄⌠♭✘╪▶☭✭♪☔☠♂☃☎✈✌✰❆☙○‣⚓年∎ℒ▪▙☏⅛ｃａｓǀ℮¸ｗ‚∼‖ℳ❄←☼⋆ʒ⊂、⅔¨͡๏⚾⚽Φ×θ￦？（℃⏩☮⚠月✊❌⭕▸■⇌☐☑⚡☄ǫ╭∩╮，例＞ʕɐ̣Δ₀✞┈╱╲▏▕┃╰▊▋╯┳┊≥☒↑☝ɹ✅☛♩☞ＡＪＢ◔◡↓♀⬆̱ℏ\\x91⠀ˤ╚↺⇤∏✾◦♬³の｜／∵∴√Ω¤☜▲↳▫‿⬇✧ｏｖｍ－２０８＇‰≤∕ˆ⚜☁'\n",
    "symbols_to_delete = '\\n🍕\\r🐵😑\\xa0\\ue014\\t\\uf818\\uf04a\\xad😢🐶️\\uf0e0😜😎👊\\u200b\\u200e😁عدويهصقأناخلىبمغر😍💖💵Е👎😀😂\\u202a\\u202c🔥😄🏻💥ᴍʏʀᴇɴᴅᴏᴀᴋʜᴜʟᴛᴄᴘʙғᴊᴡɢ😋👏שלוםבי😱‼\\x81エンジ故障\\u2009🚌ᴵ͞🌟😊😳😧🙀😐😕\\u200f👍😮😃😘אעכח💩💯⛽🚄🏼ஜ😖ᴠ🚲‐😟😈💪🙏🎯🌹😇💔😡\\x7f👌ἐὶήιὲκἀίῃἴξ🙄Ｈ😠\\ufeff\\u2028😉😤⛺🙂\\u3000تحكسة👮💙فزط😏🍾🎉😞\\u2008🏾😅😭👻😥😔😓🏽🎆🍻🍽🎶🌺🤔😪\\x08‑🐰🐇🐱🙆😨🙃💕𝘊𝘦𝘳𝘢𝘵𝘰𝘤𝘺𝘴𝘪𝘧𝘮𝘣💗💚地獄谷улкнПоАН🐾🐕😆ה🔗🚽歌舞伎🙈😴🏿🤗🇺🇸мυтѕ⤵🏆🎃😩\\u200a🌠🐟💫💰💎эпрд\\x95🖐🙅⛲🍰🤐👆🙌\\u2002💛🙁👀🙊🙉\\u2004ˢᵒʳʸᴼᴷᴺʷᵗʰᵉᵘ\\x13🚬🤓\\ue602😵άοόςέὸתמדףנרךצט😒͝🆕👅👥👄🔄🔤👉👤👶👲🔛🎓\\uf0b7\\uf04c\\x9f\\x10成都😣⏺😌🤑🌏😯ех😲Ἰᾶὁ💞🚓🔔📚🏀👐\\u202d💤🍇\\ue613小土豆🏡❔⁉\\u202f👠》कर्मा🇹🇼🌸蔡英文🌞🎲レクサス😛外国人关系Сб💋💀🎄💜🤢َِьыгя不是\\x9c\\x9d🗑\\u2005💃📣👿༼つ༽😰ḷЗз▱ц￼🤣卖温哥华议会下降你失去所有的钱加拿大坏税骗子🐝ツ🎅\\x85🍺آإشء🎵🌎͟ἔ油别克🤡🤥😬🤧й\\u2003🚀🤴ʲшчИОРФДЯМюж😝🖑ὐύύ特殊作戦群щ💨圆明园קℐ🏈😺🌍⏏ệ🍔🐮🍁🍆🍑🌮🌯🤦\\u200d𝓒𝓲𝓿𝓵안영하세요ЖљКћ🍀😫🤤ῦ我出生在了可以说普通话汉语好极🎼🕺🍸🥂🗽🎇🎊🆘🤠👩🖒🚪天一家⚲\\u2006⚭⚆⬭⬯⏖新✀╌🇫🇷🇩🇪🇮🇬🇧😷🇨🇦ХШ🌐\\x1f杀鸡给猴看ʁ𝗪𝗵𝗲𝗻𝘆𝗼𝘂𝗿𝗮𝗹𝗶𝘇𝗯𝘁𝗰𝘀𝘅𝗽𝘄𝗱📺ϖ\\u2000үսᴦᎥһͺ\\u2007հ\\u2001ɩｙｅ൦ｌƽｈ𝐓𝐡𝐞𝐫𝐮𝐝𝐚𝐃𝐜𝐩𝐭𝐢𝐨𝐧Ƅᴨןᑯ໐ΤᏧ௦Іᴑ܁𝐬𝐰𝐲𝐛𝐦𝐯𝐑𝐙𝐣𝐇𝐂𝐘𝟎ԜТᗞ౦〔Ꭻ𝐳𝐔𝐱𝟔𝟓𝐅🐋ﬃ💘💓ё𝘥𝘯𝘶💐🌋🌄🌅𝙬𝙖𝙨𝙤𝙣𝙡𝙮𝙘𝙠𝙚𝙙𝙜𝙧𝙥𝙩𝙪𝙗𝙞𝙝𝙛👺🐷ℋ𝐀𝐥𝐪🚶𝙢Ἱ🤘ͦ💸ج패티Ｗ𝙇ᵻ👂👃ɜ🎫\\uf0a7БУі🚢🚂ગુજરાતીῆ🏃𝓬𝓻𝓴𝓮𝓽𝓼☘﴾̯﴿₽\\ue807𝑻𝒆𝒍𝒕𝒉𝒓𝒖𝒂𝒏𝒅𝒔𝒎𝒗𝒊👽😙\\u200cЛ‒🎾👹⎌🏒⛸公寓养宠物吗🏄🐀🚑🤷操美𝒑𝒚𝒐𝑴🤙🐒欢迎来到阿拉斯ספ𝙫🐈𝒌𝙊𝙭𝙆𝙋𝙍𝘼𝙅ﷻ🦄巨收赢得白鬼愤怒要买额ẽ🚗🐳𝟏𝐟𝟖𝟑𝟕𝒄𝟗𝐠𝙄𝙃👇锟斤拷𝗢𝟳𝟱𝟬⦁マルハニチロ株式社⛷한국어ㄸㅓ니͜ʖ𝘿𝙔₵𝒩ℯ𝒾𝓁𝒶𝓉𝓇𝓊𝓃𝓈𝓅ℴ𝒻𝒽𝓀𝓌𝒸𝓎𝙏ζ𝙟𝘃𝗺𝟮𝟭𝟯𝟲👋🦊多伦🐽🎻🎹⛓🏹🍷🦆为和中友谊祝贺与其想象对法如直接问用自己猜本传教士没积唯认识基督徒曾经让相信耶稣复活死怪他但当们聊些政治题时候战胜因圣把全堂结婚孩恐惧且栗谓这样还♾🎸🤕🤒⛑🎁批判检讨🏝🦁🙋😶쥐스탱트뤼도석유가격인상이경제황을렵게만들지않록잘관리해야합다캐나에서대마초와화약금의품런성분갈때는반드시허된사용🔫👁凸ὰ💲🗯𝙈Ἄ𝒇𝒈𝒘𝒃𝑬𝑶𝕾𝖙𝖗𝖆𝖎𝖌𝖍𝖕𝖊𝖔𝖑𝖉𝖓𝖐𝖜𝖞𝖚𝖇𝕿𝖘𝖄𝖛𝖒𝖋𝖂𝕴𝖟𝖈𝕸👑🚿💡知彼百\\uf005𝙀𝒛𝑲𝑳𝑾𝒋𝟒😦𝙒𝘾𝘽🏐𝘩𝘨ὼṑ𝑱𝑹𝑫𝑵𝑪🇰🇵👾ᓇᒧᔭᐃᐧᐦᑳᐨᓃᓂᑲᐸᑭᑎᓀᐣ🐄🎈🔨🐎🤞🐸💟🎰🌝🛳点击查版🍭𝑥𝑦𝑧ＮＧ👣\\uf020っ🏉ф💭🎥Ξ🐴👨🤳🦍\\x0b🍩𝑯𝒒😗𝟐🏂👳🍗🕉🐲چی𝑮𝗕𝗴🍒ꜥⲣⲏ🐑⏰鉄リ事件ї💊「」\\uf203\\uf09a\\uf222\\ue608\\uf202\\uf099\\uf469\\ue607\\uf410\\ue600燻製シ虚偽屁理屈Г𝑩𝑰𝒀𝑺🌤𝗳𝗜𝗙𝗦𝗧🍊ὺἈἡχῖΛ⤏🇳𝒙ψՁմեռայինրւդձ冬至ὀ𝒁🔹🤚🍎𝑷🐂💅𝘬𝘱𝘸𝘷𝘐𝘭𝘓𝘖𝘹𝘲𝘫کΒώ💢ΜΟΝΑΕ🇱♲𝝈↴💒⊘Ȼ🚴🖕🖤🥘📍👈➕🚫🎨🌑🐻𝐎𝐍𝐊𝑭🤖🎎😼🕷ｇｒｎｔｉｄｕｆｂｋ𝟰🇴🇭🇻🇲𝗞𝗭𝗘𝗤👼📉🍟🍦🌈🔭《🐊🐍\\uf10aლڡ🐦\\U0001f92f\\U0001f92a🐡💳ἱ🙇𝗸𝗟𝗠𝗷🥜さようなら🔼'\n",
    "CONTRACTION_MAPPING = {\"ain't\": \"is not\", \"aren't\": \"are not\",\"can't\": \"cannot\", \"'cause\": \"because\", \"could've\": \"could have\", \"couldn't\": \"could not\", \"didn't\": \"did not\",  \"doesn't\": \"does not\", \"don't\": \"do not\", \"hadn't\": \"had not\", \"hasn't\": \"has not\", \"haven't\": \"have not\", \"he'd\": \"he would\",\"he'll\": \"he will\", \"he's\": \"he is\", \"how'd\": \"how did\", \"how'd'y\": \"how do you\", \"how'll\": \"how will\", \"how's\": \"how is\",  \"I'd\": \"I would\", \"I'd've\": \"I would have\", \"I'll\": \"I will\", \"I'll've\": \"I will have\",\"I'm\": \"I am\", \"I've\": \"I have\", \"i'd\": \"i would\", \"i'd've\": \"i would have\", \"i'll\": \"i will\",  \"i'll've\": \"i will have\",\"i'm\": \"i am\", \"i've\": \"i have\", \"isn't\": \"is not\", \"it'd\": \"it would\", \"it'd've\": \"it would have\", \"it'll\": \"it will\", \"it'll've\": \"it will have\",\"it's\": \"it is\", \"let's\": \"let us\", \"ma'am\": \"madam\", \"mayn't\": \"may not\", \"might've\": \"might have\",\"mightn't\": \"might not\",\"mightn't've\": \"might not have\", \"must've\": \"must have\", \"mustn't\": \"must not\", \"mustn't've\": \"must not have\", \"needn't\": \"need not\", \"needn't've\": \"need not have\",\"o'clock\": \"of the clock\", \"oughtn't\": \"ought not\", \"oughtn't've\": \"ought not have\", \"shan't\": \"shall not\", \"sha'n't\": \"shall not\", \"shan't've\": \"shall not have\", \"she'd\": \"she would\", \"she'd've\": \"she would have\", \"she'll\": \"she will\", \"she'll've\": \"she will have\", \"she's\": \"she is\", \"should've\": \"should have\", \"shouldn't\": \"should not\", \"shouldn't've\": \"should not have\", \"so've\": \"so have\",\"so's\": \"so as\", \"this's\": \"this is\",\"that'd\": \"that would\", \"that'd've\": \"that would have\", \"that's\": \"that is\", \"there'd\": \"there would\", \"there'd've\": \"there would have\", \"there's\": \"there is\", \"here's\": \"here is\",\"they'd\": \"they would\", \"they'd've\": \"they would have\", \"they'll\": \"they will\", \"they'll've\": \"they will have\", \"they're\": \"they are\", \"they've\": \"they have\", \"to've\": \"to have\", \"wasn't\": \"was not\", \"we'd\": \"we would\", \"we'd've\": \"we would have\", \"we'll\": \"we will\", \"we'll've\": \"we will have\", \"we're\": \"we are\", \"we've\": \"we have\", \"weren't\": \"were not\", \"what'll\": \"what will\", \"what'll've\": \"what will have\", \"what're\": \"what are\",  \"what's\": \"what is\", \"what've\": \"what have\", \"when's\": \"when is\", \"when've\": \"when have\", \"where'd\": \"where did\", \"where's\": \"where is\", \"where've\": \"where have\", \"who'll\": \"who will\", \"who'll've\": \"who will have\", \"who's\": \"who is\", \"who've\": \"who have\", \"why's\": \"why is\", \"why've\": \"why have\", \"will've\": \"will have\", \"won't\": \"will not\", \"won't've\": \"will not have\", \"would've\": \"would have\", \"wouldn't\": \"would not\", \"wouldn't've\": \"would not have\", \"y'all\": \"you all\", \"y'all'd\": \"you all would\",\"y'all'd've\": \"you all would have\",\"y'all're\": \"you all are\",\"y'all've\": \"you all have\",\"you'd\": \"you would\", \"you'd've\": \"you would have\", \"you'll\": \"you will\", \"you'll've\": \"you will have\", \"you're\": \"you are\", \"you've\": \"you have\" }\n",
    "CUSTOM_TABLE = str.maketrans(\n",
    "    {\n",
    "        \"\\xad\": None,\n",
    "        \"\\x7f\": None,\n",
    "        \"\\ufeff\": None,\n",
    "        \"\\u200b\": None,\n",
    "        \"\\u200e\": None,\n",
    "        \"\\u202a\": None,\n",
    "        \"\\u202c\": None,\n",
    "        \"‘\": \"'\",\n",
    "        \"’\": \"'\",\n",
    "        \"`\": \"'\",\n",
    "        \"“\": '\"',\n",
    "        \"”\": '\"',\n",
    "        \"«\": '\"',\n",
    "        \"»\": '\"',\n",
    "        \"ɢ\": \"G\",\n",
    "        \"ɪ\": \"I\",\n",
    "        \"ɴ\": \"N\",\n",
    "        \"ʀ\": \"R\",\n",
    "        \"ʏ\": \"Y\",\n",
    "        \"ʙ\": \"B\",\n",
    "        \"ʜ\": \"H\",\n",
    "        \"ʟ\": \"L\",\n",
    "        \"ғ\": \"F\",\n",
    "        \"ᴀ\": \"A\",\n",
    "        \"ᴄ\": \"C\",\n",
    "        \"ᴅ\": \"D\",\n",
    "        \"ᴇ\": \"E\",\n",
    "        \"ᴊ\": \"J\",\n",
    "        \"ᴋ\": \"K\",\n",
    "        \"ᴍ\": \"M\",\n",
    "        \"Μ\": \"M\",\n",
    "        \"ᴏ\": \"O\",\n",
    "        \"ᴘ\": \"P\",\n",
    "        \"ᴛ\": \"T\",\n",
    "        \"ᴜ\": \"U\",\n",
    "        \"ᴡ\": \"W\",\n",
    "        \"ᴠ\": \"V\",\n",
    "        \"ĸ\": \"K\",\n",
    "        \"в\": \"B\",\n",
    "        \"м\": \"M\",\n",
    "        \"н\": \"H\",\n",
    "        \"т\": \"T\",\n",
    "        \"ѕ\": \"S\",\n",
    "        \"—\": \"-\",\n",
    "        \"–\": \"-\",\n",
    "    }\n",
    ")\n",
    "\n",
    "NMS_TABLE = dict.fromkeys(\n",
    "    i for i in range(sys.maxunicode + 1) if unicodedata.category(chr(i)) == \"Mn\"\n",
    ")\n",
    "\n",
    "HEBREW_TABLE = {i: \"א\" for i in range(0x0590, 0x05FF)}\n",
    "ARABIC_TABLE = {i: \"ا\" for i in range(0x0600, 0x06FF)}\n",
    "CHINESE_TABLE = {i: \"是\" for i in range(0x4E00, 0x9FFF)}\n",
    "KANJI_TABLE = {i: \"ッ\" for i in range(0x2E80, 0x2FD5)}\n",
    "HIRAGANA_TABLE = {i: \"ッ\" for i in range(0x3041, 0x3096)}\n",
    "KATAKANA_TABLE = {i: \"ッ\" for i in range(0x30A0, 0x30FF)}\n",
    "\n",
    "TABLE = dict()\n",
    "TABLE.update(CUSTOM_TABLE)\n",
    "TABLE.update(NMS_TABLE)\n",
    "\n",
    "# Non-english languages\n",
    "TABLE.update(CHINESE_TABLE)\n",
    "TABLE.update(HEBREW_TABLE)\n",
    "TABLE.update(ARABIC_TABLE)\n",
    "TABLE.update(HIRAGANA_TABLE)\n",
    "TABLE.update(KATAKANA_TABLE)\n",
    "TABLE.update(KANJI_TABLE)\n",
    "\n",
    "\n",
    "RE_SPACE = re.compile(r\"\\s\")\n",
    "RE_MULTI_SPACE = re.compile(r\"\\s+\")\n",
    "isolate_dict = {ord(c):f' {c} ' for c in symbols_to_isolate}\n",
    "remove_dict = {ord(c):f'' for c in symbols_to_delete}"
   ]
  },
  {
   "cell_type": "code",
   "execution_count": null,
   "metadata": {},
   "outputs": [],
   "source": [
    "import emoji\n",
    "\n",
    "EMOJI_REGEXP = emoji.get_emoji_regexp()\n",
    "\n",
    "UNICODE_EMOJI = {\n",
    "    k: f\" EMJ {v.strip(':').replace('_', ' ')} \"\n",
    "    for k, v in emoji.UNICODE_EMOJI_ALIAS.items()\n",
    "}\n",
    "\n",
    "\n",
    "def remove_emoji(string: str):\n",
    "    def replace(match):\n",
    "        return UNICODE_EMOJI.get(match.group(0), match.group(0))\n",
    "\n",
    "    return re.sub(\"\\ufe0f\", \"\", EMOJI_REGEXP.sub(replace, string))"
   ]
  },
  {
   "cell_type": "code",
   "execution_count": null,
   "metadata": {},
   "outputs": [],
   "source": [
    "def normalize(text: str):\n",
    "    for k, v in CONTRACTION_MAPPING.items():\n",
    "        text = text.replace(' %s ' % k, ' %s ' % v)\n",
    "    text = text.translate(remove_dict)\n",
    "    text = text.translate(isolate_dict)\n",
    "    text = remove_emoji(text)\n",
    "    text = RE_SPACE.sub(\" \", text)\n",
    "    text = unicodedata.normalize(\"NFKD\", text)\n",
    "    text = text.translate(TABLE)\n",
    "    text = RE_MULTI_SPACE.sub(\" \", text).strip()\n",
    "    text = re.sub(\"@[a-zA-Z]*\",\"USER\",text)\n",
    "    text = re.sub(\"#[a-zA-z]*\",\"HASHTAG\",text)\n",
    "    return text"
   ]
  },
  {
   "cell_type": "code",
   "execution_count": null,
   "metadata": {},
   "outputs": [],
   "source": [
    "%%time\n",
    "with multiprocessing.Pool(processes=4) as pool:\n",
    "    org1_list = pool.map(normalize, org1.entry_translated.tolist())\n",
    "    org2_list = pool.map(normalize, org2.entry_translated.tolist())\n",
    "    org3_list = pool.map(normalize, org3.entry_translated.tolist())\n",
    "    test1_list = pool.map(normalize, test1.entry_translated.tolist())\n",
    "    test2_list = pool.map(normalize, test2.entry_translated.tolist())\n",
    "    test3_list = pool.map(normalize, test3.entry_translated.tolist())"
   ]
  },
  {
   "cell_type": "code",
   "execution_count": null,
   "metadata": {},
   "outputs": [],
   "source": [
    "org1['text'] = org1_list\n",
    "org2['text'] = org2_list\n",
    "org3['text'] = org3_list\n",
    "test1['text'] = test1_list\n",
    "test2['text'] = test2_list\n",
    "test3['text'] = test3_list"
   ]
  },
  {
   "cell_type": "code",
   "execution_count": null,
   "metadata": {},
   "outputs": [],
   "source": [
    "org123 = pd.concat([org1, org2, org3])\n",
    "test123 = pd.concat([test1, test2, test3])\n",
    "print(org123.shape)\n",
    "print(test123.shape)"
   ]
  },
  {
   "cell_type": "code",
   "execution_count": null,
   "metadata": {},
   "outputs": [],
   "source": [
    "org123.to_csv('data/train123.csv',index=False)\n",
    "test123.to_csv('data/test123.csv',index=False)"
   ]
  },
  {
   "cell_type": "markdown",
   "metadata": {},
   "source": [
    "## Model"
   ]
  },
  {
   "cell_type": "code",
   "execution_count": null,
   "metadata": {},
   "outputs": [],
   "source": [
    "from sklearn.linear_model import LogisticRegression\n",
    "from sklearn.feature_extraction.text import CountVectorizer, TfidfVectorizer"
   ]
  },
  {
   "cell_type": "code",
   "execution_count": null,
   "metadata": {},
   "outputs": [],
   "source": [
    "word_vectorizer = TfidfVectorizer(ngram_range=(1,2),\n",
    "               min_df=5, max_df=0.9, strip_accents='unicode', use_idf=1,\n",
    "               smooth_idf=1, sublinear_tf=1, max_features=50000,stop_words='english')"
   ]
  },
  {
   "cell_type": "code",
   "execution_count": null,
   "metadata": {},
   "outputs": [],
   "source": [
    "%%time\n",
    "org1_tfidf = word_vectorizer.fit_transform(org1['text'])\n",
    "org2_tfidf = word_vectorizer.transform(org2['text'])\n",
    "org3_tfidf = word_vectorizer.transform(org3['text'])\n",
    "test1_tfidf = word_vectorizer.transform(test1['text'])\n",
    "test2_tfidf = word_vectorizer.transform(test2['text'])\n",
    "test3_tfidf = word_vectorizer.transform(test3['text'])\n",
    "org123_tfidf = word_vectorizer.fit_transform(org123['text'])\n",
    "test123_tfidf = word_vectorizer.transform(test123['text'])"
   ]
  },
  {
   "cell_type": "code",
   "execution_count": null,
   "metadata": {},
   "outputs": [],
   "source": [
    "# naive bayes\n",
    "def pr(y_i, y):\n",
    "    p = x[y==y_i].sum(0)\n",
    "    return (p+1) / ((y==y_i).sum()+1)"
   ]
  },
  {
   "cell_type": "code",
   "execution_count": null,
   "metadata": {},
   "outputs": [],
   "source": [
    "# fitting a model one dependent at a time\n",
    "def get_model(y):\n",
    "    y = y.values\n",
    "    r = np.log(pr(1,y) / pr(0,y))\n",
    "    m = LogisticRegression(C=4, dual=True, solver='liblinear')\n",
    "    x_nb = x.multiply(r)\n",
    "    return m.fit(x_nb, y), r\n"
   ]
  },
  {
   "cell_type": "code",
   "execution_count": null,
   "metadata": {},
   "outputs": [],
   "source": [
    "#test1 \n",
    "test_x = test1_tfidf\n",
    "x = org1_tfidf\n",
    "train = org1\n",
    "preds = np.zeros((len(test1), len(label_cols)))\n",
    "print(preds.shape)\n",
    "\n",
    "for i, j in enumerate(label_cols):\n",
    "    print('fit', j)\n",
    "    m,r = get_model(train[j])\n",
    "    preds[:,i] = m.predict_proba(test_x.multiply(r))[:,1]\n"
   ]
  },
  {
   "cell_type": "code",
   "execution_count": null,
   "metadata": {},
   "outputs": [],
   "source": [
    "submid = pd.DataFrame({'id': test1[\"id\"]})\n",
    "submission1 = pd.concat([submid, pd.DataFrame(preds, columns = label_cols)], axis=1)\n",
    "values=[]\n",
    "for i in range(len(test1)): \n",
    "    values.append(np.argmax(preds[i]) + 1)\n",
    "submission1['predicted_label'] = values\n",
    "del values\n",
    "gc.collect()\n",
    "submission1.head()"
   ]
  },
  {
   "cell_type": "code",
   "execution_count": null,
   "metadata": {},
   "outputs": [],
   "source": [
    "# test 2\n",
    "test_x = test2_tfidf\n",
    "x = org2_tfidf\n",
    "train = org2\n",
    "preds = np.zeros((len(test2), len(label_cols)))\n",
    "print(preds.shape)\n",
    "\n",
    "for i, j in enumerate(label_cols):\n",
    "    print('fit', j)\n",
    "    m,r = get_model(train[j])\n",
    "    preds[:,i] = m.predict_proba(test_x.multiply(r))[:,1]\n"
   ]
  },
  {
   "cell_type": "code",
   "execution_count": null,
   "metadata": {},
   "outputs": [],
   "source": [
    "submid = pd.DataFrame({'id': test2[\"id\"]})\n",
    "submission2 = pd.concat([submid, pd.DataFrame(preds, columns = label_cols)], axis=1)\n",
    "values=[]\n",
    "for i in range(len(test2)): \n",
    "    values.append(np.argmax(preds[i]) + 1)\n",
    "submission2['predicted_label'] = values\n",
    "del values\n",
    "gc.collect()\n",
    "submission2.head()"
   ]
  },
  {
   "cell_type": "code",
   "execution_count": null,
   "metadata": {},
   "outputs": [],
   "source": [
    "# test 3\n",
    "test_x = test3_tfidf\n",
    "x = org3_tfidf\n",
    "train = org3\n",
    "preds = np.zeros((len(test3), len(label_cols)))\n",
    "print(preds.shape)\n",
    "\n",
    "for i, j in enumerate(label_cols):\n",
    "    print('fit', j)\n",
    "    m,r = get_model(train[j])\n",
    "    preds[:,i] = m.predict_proba(test_x.multiply(r))[:,1]\n"
   ]
  },
  {
   "cell_type": "code",
   "execution_count": null,
   "metadata": {},
   "outputs": [],
   "source": [
    "submid = pd.DataFrame({'id': test3[\"id\"]})\n",
    "submission3 = pd.concat([submid, pd.DataFrame(preds, columns = label_cols)], axis=1)\n",
    "values=[]\n",
    "for i in range(len(test3)): \n",
    "    values.append(np.argmax(preds[i]) + 1)\n",
    "submission3['predicted_label'] = values\n",
    "del values\n",
    "gc.collect()\n",
    "submission3.head()"
   ]
  },
  {
   "cell_type": "code",
   "execution_count": null,
   "metadata": {},
   "outputs": [],
   "source": [
    "print(submission1.shape)\n",
    "print(submission2.shape)\n",
    "print(submission3.shape)"
   ]
  },
  {
   "cell_type": "code",
   "execution_count": null,
   "metadata": {},
   "outputs": [],
   "source": [
    "submission123 = pd.concat([submission1, submission2, submission3])\n",
    "print(submission123.shape)"
   ]
  },
  {
   "cell_type": "code",
   "execution_count": null,
   "metadata": {},
   "outputs": [],
   "source": [
    "submission123.head()"
   ]
  },
  {
   "cell_type": "code",
   "execution_count": null,
   "metadata": {},
   "outputs": [],
   "source": [
    "submission123.columns"
   ]
  },
  {
   "cell_type": "code",
   "execution_count": null,
   "metadata": {},
   "outputs": [],
   "source": [
    "# test 123 all combined as one test set\n",
    "test_x = test123_tfidf\n",
    "x = org123_tfidf\n",
    "train = org123\n",
    "preds = np.zeros((len(test123), len(label_cols)))\n",
    "print(preds.shape)\n",
    "\n",
    "for i, j in enumerate(label_cols):\n",
    "    print('fit', j)\n",
    "    m,r = get_model(train[j])\n",
    "    preds[:,i] = m.predict_proba(test_x.multiply(r))[:,1]\n"
   ]
  },
  {
   "cell_type": "code",
   "execution_count": null,
   "metadata": {},
   "outputs": [],
   "source": [
    "submid = pd.DataFrame({'id': test123[\"id\"]})\n",
    "submid = submid.reset_index()\n",
    "# print(sorted(submid.index))\n",
    "submission123_combined = pd.concat([submid, pd.DataFrame(preds, columns = label_cols)], axis=1)\n",
    "values=[]\n",
    "for i in range(len(test123)): \n",
    "    values.append(np.argmax(preds[i]) + 1)\n",
    "submission123_combined['predicted_label'] = values\n",
    "del values\n",
    "gc.collect()\n",
    "submission123_combined.head()"
   ]
  },
  {
   "cell_type": "markdown",
   "metadata": {},
   "source": [
    "## ORG4"
   ]
  },
  {
   "cell_type": "code",
   "execution_count": null,
   "metadata": {},
   "outputs": [],
   "source": [
    "org4 = pd.read_csv('data/org4_dev.csv')\n",
    "test4 = pd.read_csv('data/org4_test.csv')"
   ]
  },
  {
   "cell_type": "code",
   "execution_count": null,
   "metadata": {},
   "outputs": [],
   "source": [
    "org4.head()"
   ]
  },
  {
   "cell_type": "code",
   "execution_count": null,
   "metadata": {},
   "outputs": [],
   "source": [
    "org4_cols = [str(i) for i in range(101,113)]\n",
    "org4_cols"
   ]
  },
  {
   "cell_type": "code",
   "execution_count": null,
   "metadata": {},
   "outputs": [],
   "source": [
    "for i in range(101,113): \n",
    "    org4[str(i)] = org4['labels'].apply(lambda x: 1 if str(i) in x else 0)\n",
    "    test4[str(i)] = 0"
   ]
  },
  {
   "cell_type": "code",
   "execution_count": null,
   "metadata": {},
   "outputs": [],
   "source": [
    "org4.head()"
   ]
  },
  {
   "cell_type": "code",
   "execution_count": null,
   "metadata": {},
   "outputs": [],
   "source": [
    "%%time\n",
    "with multiprocessing.Pool(processes=4) as pool:\n",
    "    org4_list = pool.map(normalize, org4.entry_translated.tolist())\n",
    "    test4_list = pool.map(normalize, test4.entry_translated.tolist())"
   ]
  },
  {
   "cell_type": "code",
   "execution_count": null,
   "metadata": {},
   "outputs": [],
   "source": [
    "org4['text'] = org4_list\n",
    "test4['text'] = test4_list"
   ]
  },
  {
   "cell_type": "code",
   "execution_count": null,
   "metadata": {},
   "outputs": [],
   "source": [
    "org4.to_csv('data/org4.csv',index=False)\n",
    "test4.to_csv('data/test4.csv',index=False)"
   ]
  },
  {
   "cell_type": "code",
   "execution_count": null,
   "metadata": {},
   "outputs": [],
   "source": [
    "org4 = pd.read_csv('data/org4.csv')\n",
    "test4 = pd.read_csv('data/test4.csv')"
   ]
  },
  {
   "cell_type": "code",
   "execution_count": null,
   "metadata": {},
   "outputs": [],
   "source": [
    "%%time\n",
    "org4_tfidf = word_vectorizer.fit_transform(org4['text'])\n",
    "test4_tfidf = word_vectorizer.transform(test4['text'])"
   ]
  },
  {
   "cell_type": "code",
   "execution_count": null,
   "metadata": {},
   "outputs": [],
   "source": [
    "org4['107'].unique()"
   ]
  },
  {
   "cell_type": "markdown",
   "metadata": {},
   "source": [
    "Hence 107 doesn't even come in the test set once. So we can effectively ignore it."
   ]
  },
  {
   "cell_type": "code",
   "execution_count": null,
   "metadata": {},
   "outputs": [],
   "source": [
    "#test1 \n",
    "test_x = test4_tfidf\n",
    "x = org4_tfidf\n",
    "train = org4\n",
    "preds = np.zeros((len(test4), len(org4_cols)))\n",
    "print(preds.shape)\n",
    "\n",
    "for i, j in enumerate(org4_cols):\n",
    "    print('fit', j)\n",
    "    if j == '107': \n",
    "        preds[:,i] = 0\n",
    "        continue\n",
    "    m,r = get_model(train[j])\n",
    "    preds[:,i] = m.predict_proba(test_x.multiply(r))[:,1]\n"
   ]
  },
  {
   "cell_type": "code",
   "execution_count": null,
   "metadata": {},
   "outputs": [],
   "source": [
    "submid = pd.DataFrame({'id': test4[\"id\"]})\n",
    "submission4 = pd.concat([submid, pd.DataFrame(preds, columns = org4_cols)], axis=1)\n",
    "values=[]\n",
    "for i in range(len(test4)): \n",
    "    values.append(np.argmax(preds[i]) + 101)\n",
    "submission4['predicted_label'] = values\n",
    "del values\n",
    "gc.collect()\n",
    "submission4.head()"
   ]
  },
  {
   "cell_type": "code",
   "execution_count": null,
   "metadata": {},
   "outputs": [],
   "source": [
    "submission123_needed = submission123.drop(label_cols, axis=1)\n",
    "submission4_needed = submission4.drop(org4_cols, axis=1)\n",
    "submission1234 = pd.concat([submission123_needed, submission4_needed])\n",
    "print(submission1234.shape)"
   ]
  },
  {
   "cell_type": "code",
   "execution_count": null,
   "metadata": {},
   "outputs": [],
   "source": [
    "submission123_combined_needed = submission123_combined.drop(label_cols, axis=1)\n",
    "submission4_needed = submission4.drop(org4_cols, axis=1)\n",
    "submission1234_combined = pd.concat([submission123_combined_needed, submission4_needed])\n",
    "print(submission1234_combined.shape)"
   ]
  },
  {
   "cell_type": "code",
   "execution_count": null,
   "metadata": {},
   "outputs": [],
   "source": [
    "submission1234_combined = submission1234_combined.drop('index',axis=1)"
   ]
  },
  {
   "cell_type": "code",
   "execution_count": null,
   "metadata": {},
   "outputs": [],
   "source": [
    "submission1234.tail()"
   ]
  },
  {
   "cell_type": "code",
   "execution_count": null,
   "metadata": {},
   "outputs": [],
   "source": [
    "submission1234.to_csv('data/sample_submission.csv',index=False)"
   ]
  },
  {
   "cell_type": "code",
   "execution_count": null,
   "metadata": {},
   "outputs": [],
   "source": [
    "submission1234_combined.to_csv('data/sample_submission_combined.csv',index=False)"
   ]
  },
  {
   "cell_type": "markdown",
   "metadata": {},
   "source": [
    "## Normal Logistic Regression "
   ]
  },
  {
   "cell_type": "code",
   "execution_count": null,
   "metadata": {},
   "outputs": [],
   "source": [
    "import pandas as pd \n",
    "import numpy as np"
   ]
  },
  {
   "cell_type": "code",
   "execution_count": null,
   "metadata": {},
   "outputs": [],
   "source": [
    "train123 = pd.read_csv(\"data/train123.csv\")\n",
    "test123 = pd.read_csv(\"data/test123.csv\")\n",
    "train123.head()"
   ]
  },
  {
   "cell_type": "code",
   "execution_count": null,
   "metadata": {},
   "outputs": [],
   "source": [
    "train123['label_one'] = train123['labels'].apply(lambda x: x[0])\n",
    "train123.head()"
   ]
  },
  {
   "cell_type": "code",
   "execution_count": null,
   "metadata": {},
   "outputs": [],
   "source": [
    "train123['label_one'].nunique()"
   ]
  },
  {
   "cell_type": "code",
   "execution_count": null,
   "metadata": {},
   "outputs": [],
   "source": [
    "from sklearn.linear_model import LogisticRegression\n",
    "from sklearn.feature_extraction.text import CountVectorizer, TfidfVectorizer\n",
    "word_vectorizer = TfidfVectorizer(ngram_range=(1,2),\n",
    "               min_df=5, max_df=0.9, strip_accents='unicode', use_idf=1,\n",
    "               smooth_idf=1, sublinear_tf=1, max_features=50000,stop_words='english')"
   ]
  },
  {
   "cell_type": "code",
   "execution_count": null,
   "metadata": {},
   "outputs": [],
   "source": [
    "%%time\n",
    "train_tfidf = word_vectorizer.fit_transform(train123['text'])\n",
    "test_tfidf = word_vectorizer.transform(test123['text'])"
   ]
  },
  {
   "cell_type": "code",
   "execution_count": null,
   "metadata": {},
   "outputs": [],
   "source": [
    "y_train = train123['label_one']"
   ]
  },
  {
   "cell_type": "code",
   "execution_count": null,
   "metadata": {},
   "outputs": [],
   "source": [
    "from sklearn.model_selection import StratifiedKFold, KFold, GridSearchCV\n",
    "import pickle\n",
    "\n",
    "penalty = ['l1', 'l2']\n",
    "\n",
    "# Create regularization hyperparameter space\n",
    "C = np.logspace(0, 4, 10)\n",
    "\n",
    "hyperparameters = dict(C=C, penalty=penalty)\n",
    "lr = GridSearchCV(LogisticRegression(random_state=23), hyperparameters, cv=5, n_jobs=-1, verbose=0)\n",
    "print(\"[INFO]Training..\")\n",
    "lr.fit(train_tfidf, y_train)\n",
    "\n",
    "print(\"[INFO]Saving...\")\n",
    "with open('logisticRegression_model.pickle', 'wb') as file:\n",
    "    pickle.dump(lr, file, protocol=pickle.HIGHEST_PROTOCOL)"
   ]
  },
  {
   "cell_type": "code",
   "execution_count": null,
   "metadata": {},
   "outputs": [],
   "source": [
    "lr.predict(test_tfidf[0])"
   ]
  },
  {
   "cell_type": "code",
   "execution_count": null,
   "metadata": {},
   "outputs": [],
   "source": [
    "test123['model_lr'] = lr.predict(test_tfidf)"
   ]
  },
  {
   "cell_type": "code",
   "execution_count": null,
   "metadata": {},
   "outputs": [],
   "source": [
    "submission4.head()"
   ]
  },
  {
   "cell_type": "code",
   "execution_count": null,
   "metadata": {},
   "outputs": [],
   "source": []
  },
  {
   "cell_type": "code",
   "execution_count": null,
   "metadata": {},
   "outputs": [],
   "source": [
    "submission = pd.DataFrame({'id': test123[\"id\"]})\n",
    "submission['predicted_label'] = test123['model_lr']\n",
    "submission.head()"
   ]
  },
  {
   "cell_type": "code",
   "execution_count": null,
   "metadata": {},
   "outputs": [],
   "source": [
    "submission4_needed = submission4.drop(org4_cols, axis=1)\n",
    "submission_all = pd.concat([submission, submission4_needed])\n",
    "print(submission_all.shape)"
   ]
  },
  {
   "cell_type": "code",
   "execution_count": null,
   "metadata": {},
   "outputs": [],
   "source": [
    "submission_all.to_csv('data/simple_LR.csv',index=False)"
   ]
  },
  {
   "cell_type": "code",
   "execution_count": null,
   "metadata": {},
   "outputs": [],
   "source": [
    "submission4_needed.to_csv('data/submission4.csv',index=False)"
   ]
  }
 ],
 "metadata": {
  "kernelspec": {
   "display_name": "Py3 OpenCV3 (Forge)",
   "language": "python",
   "name": "opencv-forge"
  },
  "language_info": {
   "codemirror_mode": {
    "name": "ipython",
    "version": 3
   },
   "file_extension": ".py",
   "mimetype": "text/x-python",
   "name": "python",
   "nbconvert_exporter": "python",
   "pygments_lexer": "ipython3",
   "version": "3.6.8"
  }
 },
 "nbformat": 4,
 "nbformat_minor": 2
}
